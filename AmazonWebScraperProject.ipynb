{
 "cells": [
  {
   "cell_type": "code",
   "execution_count": 33,
   "id": "1e9bed75-f612-4e80-a962-5898ee855341",
   "metadata": {},
   "outputs": [],
   "source": [
    "# import libraries\n",
    "\n",
    "from bs4 import BeautifulSoup\n",
    "import pandas as pd\n",
    "import requests\n",
    "import smtplib\n",
    "import time\n",
    "import datetime\n",
    "import csv"
   ]
  },
  {
   "cell_type": "code",
   "execution_count": 28,
   "id": "48d58076-2fad-41d2-9491-d3b0342044ee",
   "metadata": {},
   "outputs": [
    {
     "name": "stdout",
     "output_type": "stream",
     "text": [
      "\n",
      "                    Choose Data, Men's Tshirt White Choose Life T Shirt, Gift Tshirt\n",
      "                   \n",
      "\n",
      "                        €17.95\n",
      "                       \n"
     ]
    }
   ],
   "source": [
    "# Connect to website\n",
    "\n",
    "url = 'https://www.amazon.de/-/en/Mens-Graphic-T-Shirt-Select-Data/dp/B071XJBPNM/ref=sr_1_4?crid=3NBGOEEGTCQWJ&dib=eyJ2IjoiMSJ9.qa9u_-CmC2oHgWBOpsB3xYCf-MEirPwkyyFS4p9oHCPSsgZmoHl9OhzwEh_fuumPRVkwIkN2ZFnhUg6iAKZ8HpjxqObciwpd4i7ulPH1ztB1GnBsW292_aFycpIaIg5A4CBG7z1JOdTG_iNCUyFoHboYM1dKkw5ZLQ-1DCCv5rYlJEIPCmUoCpuJSnOIZdsp0IkFwiawAryAqroRagEPCkKTAFwhf9FHyWiSbJkJ-tLI8C6Mwik9y3sdJnpz6zqPtznbeTPke9t9IzH2bGO6NKlpRBsQqwwDNKTUOadOIwU.55-gzvUTCC-IjJsSaDzTZZkaFP5nLK-f86K-Fbr8iEw&dib_tag=se&keywords=data+analyst+shirt&qid=1712842292&sprefix=data+analyst+shir%2Caps%2C246&sr=8-4'\n",
    "headers = {\"User-Agent\": \"Mozilla/5.0 (Windows NT 10.0; Win64; x64) AppleWebKit/537.36 (KHTML, like Gecko) Chrome/123.0.0.0 Safari/537.36\", \"Accept-Encoding\":\"gzip, deflate\", \"Accept\":\"text/html,application/xhtml+xml,application/xml;q=0.9,*/*;q=0.8\", \"DNT\":\"1\",\"Connection\":\"close\", \"Upgrade-Insecure-Requests\":\"1\"}\n",
    "page = requests.get(url, headers=headers)\n",
    "\n",
    "soup1 = BeautifulSoup(page.content, \"html.parser\")\n",
    "soup2 = BeautifulSoup(soup1.prettify(), \"html.parser\")\n",
    "\n",
    "title = soup2.find(id='productTitle').get_text()\n",
    "price = soup2.find(\"span\", class_=\"a-offscreen\").get_text()\n",
    "\n",
    "print(title)\n",
    "print(price)"
   ]
  },
  {
   "cell_type": "code",
   "execution_count": 29,
   "id": "5870b448-3747-457b-b37e-ab9314a578c7",
   "metadata": {},
   "outputs": [
    {
     "name": "stdout",
     "output_type": "stream",
     "text": [
      "Choose Data, Men's Tshirt White Choose Life T Shirt, Gift Tshirt\n",
      "17.95\n"
     ]
    }
   ],
   "source": [
    "price = price.strip()[1:]\n",
    "title = title.strip()\n",
    "\n",
    "print(title)\n",
    "print(price)"
   ]
  },
  {
   "cell_type": "code",
   "execution_count": 34,
   "id": "12dadfb4-3128-46ce-b2c1-7d7eb3d2cb4b",
   "metadata": {},
   "outputs": [
    {
     "name": "stdout",
     "output_type": "stream",
     "text": [
      "2024-04-11\n"
     ]
    }
   ],
   "source": [
    "today = datetime.date.today()\n",
    "print(today)"
   ]
  },
  {
   "cell_type": "code",
   "execution_count": 35,
   "id": "3b5ffdce-7555-4cfe-9cbe-8299c4e0f49b",
   "metadata": {},
   "outputs": [],
   "source": [
    "header = ['Title', 'Price', 'Date']\n",
    "data = [title, price, today]\n",
    "\n",
    "with open('AmazonWebScraper.scv', 'w', newline = '', encoding='UTF8') as f:\n",
    "    writer = csv.writer(f)\n",
    "    writer.writerow(header)\n",
    "    writer.writerow(data)"
   ]
  },
  {
   "cell_type": "code",
   "execution_count": 36,
   "id": "0f3b0b2e-5021-4567-a4e6-ae9f6545c8c4",
   "metadata": {},
   "outputs": [
    {
     "name": "stdout",
     "output_type": "stream",
     "text": [
      "                                               Title  Price        Date\n",
      "0  Choose Data, Men's Tshirt White Choose Life T ...  17.95  2024-04-11\n"
     ]
    }
   ],
   "source": [
    "df = pd.read_csv(r\"C:\\Users\\libor\\AmazonWebScraper.scv\")\n",
    "\n",
    "print(df)"
   ]
  },
  {
   "cell_type": "code",
   "execution_count": null,
   "id": "d04f7765-1653-4015-bc4b-c9547298ce1a",
   "metadata": {},
   "outputs": [],
   "source": [
    "#Appending data to the csv\n",
    "\n",
    "with open('AmazonWebScraper.scv', 'w', newline = '', encoding='UTF8') as f:\n",
    "    writer = csv.writer(f)\n",
    "    writer.writerow(data)"
   ]
  },
  {
   "cell_type": "code",
   "execution_count": 37,
   "id": "d943ad34-de31-4f00-ba51-34a2d79c33e8",
   "metadata": {},
   "outputs": [],
   "source": [
    "def check_price():\n",
    "    url = 'https://www.amazon.de/-/en/Mens-Graphic-T-Shirt-Select-Data/dp/B071XJBPNM/ref=sr_1_4?crid=3NBGOEEGTCQWJ&dib=eyJ2IjoiMSJ9.qa9u_-CmC2oHgWBOpsB3xYCf-MEirPwkyyFS4p9oHCPSsgZmoHl9OhzwEh_fuumPRVkwIkN2ZFnhUg6iAKZ8HpjxqObciwpd4i7ulPH1ztB1GnBsW292_aFycpIaIg5A4CBG7z1JOdTG_iNCUyFoHboYM1dKkw5ZLQ-1DCCv5rYlJEIPCmUoCpuJSnOIZdsp0IkFwiawAryAqroRagEPCkKTAFwhf9FHyWiSbJkJ-tLI8C6Mwik9y3sdJnpz6zqPtznbeTPke9t9IzH2bGO6NKlpRBsQqwwDNKTUOadOIwU.55-gzvUTCC-IjJsSaDzTZZkaFP5nLK-f86K-Fbr8iEw&dib_tag=se&keywords=data+analyst+shirt&qid=1712842292&sprefix=data+analyst+shir%2Caps%2C246&sr=8-4'\n",
    "    headers = {\"User-Agent\": \"Mozilla/5.0 (Windows NT 10.0; Win64; x64) AppleWebKit/537.36 (KHTML, like Gecko) Chrome/123.0.0.0 Safari/537.36\", \"Accept-Encoding\":\"gzip, deflate\", \"Accept\":\"text/html,application/xhtml+xml,application/xml;q=0.9,*/*;q=0.8\", \"DNT\":\"1\",\"Connection\":\"close\", \"Upgrade-Insecure-Requests\":\"1\"}\n",
    "    page = requests.get(url, headers=headers)\n",
    "    soup1 = BeautifulSoup(page.content, \"html.parser\")\n",
    "    soup2 = BeautifulSoup(soup1.prettify(), \"html.parser\")\n",
    "    title = soup2.find(id='productTitle').get_text()\n",
    "    price = soup2.find(\"span\", class_=\"a-offscreen\").get_text()\n",
    "    price = price.strip()[1:]\n",
    "    title = title.strip()\n",
    "    today = datetime.date.today()\n",
    "    header = ['Title', 'Price', 'Date']\n",
    "    data = [title, price, today]\n",
    "    with open('AmazonWebScraper.scv', 'w', newline = '', encoding='UTF8') as f:\n",
    "        writer = csv.writer(f)\n",
    "        writer.writerow(data)"
   ]
  },
  {
   "cell_type": "code",
   "execution_count": null,
   "id": "bf6c07f3-80d1-4088-b49e-cc20fa60cbfc",
   "metadata": {},
   "outputs": [],
   "source": [
    "while True:\n",
    "    check_price()\n",
    "    time.sleep(86400)"
   ]
  },
  {
   "cell_type": "code",
   "execution_count": 38,
   "id": "f591dbbf-5164-4ba4-8e29-09ba7635f580",
   "metadata": {},
   "outputs": [
    {
     "name": "stdout",
     "output_type": "stream",
     "text": [
      "                                               Title  Price        Date\n",
      "0  Choose Data, Men's Tshirt White Choose Life T ...  17.95  2024-04-11\n"
     ]
    }
   ],
   "source": [
    "df = pd.read_csv(r\"C:\\Users\\libor\\AmazonWebScraper.scv\")\n",
    "print(df)"
   ]
  }
 ],
 "metadata": {
  "kernelspec": {
   "display_name": "Python 3 (ipykernel)",
   "language": "python",
   "name": "python3"
  },
  "language_info": {
   "codemirror_mode": {
    "name": "ipython",
    "version": 3
   },
   "file_extension": ".py",
   "mimetype": "text/x-python",
   "name": "python",
   "nbconvert_exporter": "python",
   "pygments_lexer": "ipython3",
   "version": "3.11.7"
  }
 },
 "nbformat": 4,
 "nbformat_minor": 5
}
